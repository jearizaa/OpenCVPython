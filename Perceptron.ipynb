{
 "cells": [
  {
   "cell_type": "code",
   "execution_count": 1,
   "metadata": {},
   "outputs": [
    {
     "name": "stdout",
     "output_type": "stream",
     "text": [
      "[[18. 18.]\n",
      " [20. 18.]\n",
      " [13.  5.]\n",
      " [ 1. 25.]\n",
      " [49. 30.]\n",
      " [60. 88.]\n",
      " [70. 52.]\n",
      " [80. 64.]\n",
      " [92. 55.]\n",
      " [75. 66.]\n",
      " [23. 60.]\n",
      " [20. 80.]\n",
      " [40. 56.]\n",
      " [15. 95.]\n",
      " [ 2. 91.]\n",
      " [55. 11.]\n",
      " [92. 12.]\n",
      " [52.  8.]\n",
      " [62. 33.]\n",
      " [88. 45.]]\n",
      "[[1. 0.]\n",
      " [1. 0.]\n",
      " [1. 0.]\n",
      " [1. 0.]\n",
      " [1. 0.]\n",
      " [1. 0.]\n",
      " [1. 0.]\n",
      " [1. 0.]\n",
      " [1. 0.]\n",
      " [1. 0.]\n",
      " [0. 1.]\n",
      " [0. 1.]\n",
      " [0. 1.]\n",
      " [0. 1.]\n",
      " [0. 1.]\n",
      " [0. 1.]\n",
      " [0. 1.]\n",
      " [0. 1.]\n",
      " [0. 1.]\n",
      " [0. 1.]]\n",
      "[[0.9831249  0.12684856]\n",
      " [0.38802713 0.902294  ]\n",
      " [0.46537632 0.7607494 ]\n",
      " ...\n",
      " [0.09793399 0.6860901 ]\n",
      " [0.9594402  0.22417131]\n",
      " [0.21214609 0.39944613]]\n"
     ]
    },
    {
     "name": "stderr",
     "output_type": "stream",
     "text": [
      "C:\\Users\\hp\\Anaconda2\\lib\\site-packages\\ipykernel_launcher.py:28: DeprecationWarning: This function is deprecated. Please call randint(1, 100 + 1) instead\n"
     ]
    },
    {
     "ename": "NameError",
     "evalue": "name 'plt' is not defined",
     "output_type": "error",
     "traceback": [
      "\u001b[1;31m---------------------------------------------------------------------------\u001b[0m",
      "\u001b[1;31mNameError\u001b[0m                                 Traceback (most recent call last)",
      "\u001b[1;32m<ipython-input-1-c4ab8870a576>\u001b[0m in \u001b[0;36m<module>\u001b[1;34m()\u001b[0m\n\u001b[0;32m     33\u001b[0m \u001b[1;32mprint\u001b[0m\u001b[1;33m(\u001b[0m\u001b[0mresultados\u001b[0m\u001b[1;33m[\u001b[0m\u001b[1;36m1\u001b[0m\u001b[1;33m]\u001b[0m\u001b[1;33m)\u001b[0m\u001b[1;33m\u001b[0m\u001b[0m\n\u001b[0;32m     34\u001b[0m \u001b[1;33m\u001b[0m\u001b[0m\n\u001b[1;32m---> 35\u001b[1;33m \u001b[0mplt\u001b[0m\u001b[1;33m.\u001b[0m\u001b[0mfigure\u001b[0m\u001b[1;33m(\u001b[0m\u001b[1;36m0\u001b[0m\u001b[1;33m)\u001b[0m\u001b[1;33m\u001b[0m\u001b[0m\n\u001b[0m\u001b[0;32m     36\u001b[0m \u001b[0mplt\u001b[0m\u001b[1;33m.\u001b[0m\u001b[0mplot\u001b[0m\u001b[1;33m(\u001b[0m\u001b[0mA\u001b[0m\u001b[1;33m[\u001b[0m\u001b[1;33m:\u001b[0m\u001b[1;33m,\u001b[0m\u001b[1;36m0\u001b[0m\u001b[1;33m]\u001b[0m\u001b[1;33m,\u001b[0m\u001b[0mA\u001b[0m\u001b[1;33m[\u001b[0m\u001b[1;33m:\u001b[0m\u001b[1;33m,\u001b[0m\u001b[1;36m1\u001b[0m\u001b[1;33m]\u001b[0m\u001b[1;33m,\u001b[0m\u001b[1;34m'ro'\u001b[0m\u001b[1;33m)\u001b[0m\u001b[1;33m\u001b[0m\u001b[0m\n\u001b[0;32m     37\u001b[0m \u001b[0mplt\u001b[0m\u001b[1;33m.\u001b[0m\u001b[0mplot\u001b[0m\u001b[1;33m(\u001b[0m\u001b[0mB\u001b[0m\u001b[1;33m[\u001b[0m\u001b[1;33m:\u001b[0m\u001b[1;33m,\u001b[0m\u001b[1;36m0\u001b[0m\u001b[1;33m]\u001b[0m\u001b[1;33m,\u001b[0m\u001b[0mB\u001b[0m\u001b[1;33m[\u001b[0m\u001b[1;33m:\u001b[0m\u001b[1;33m,\u001b[0m\u001b[1;36m1\u001b[0m\u001b[1;33m]\u001b[0m\u001b[1;33m,\u001b[0m\u001b[1;34m'go'\u001b[0m\u001b[1;33m)\u001b[0m\u001b[1;33m\u001b[0m\u001b[0m\n",
      "\u001b[1;31mNameError\u001b[0m: name 'plt' is not defined"
     ]
    }
   ],
   "source": [
    "import cv2\n",
    "import numpy as np\n",
    "\n",
    "ann = cv2.ml.ANN_MLP_create()\n",
    "ann.setLayerSizes(np.array([2, 3, 2], dtype=np.uint8))\n",
    "#ann.setActivationFunction(cv2.ml.ANN_MLP_SIGMOID_SYM,1,1)\n",
    "ann.setActivationFunction(cv2.ml.ANN_MLP_GAUSSIAN,1,1)\n",
    "ann.setTrainMethod(cv2.ml.ANN_MLP_BACKPROP)\n",
    "#ann.setTrainMethod(cv2.ml.ANN_MLP_RPROP)\n",
    "\n",
    "\n",
    "A = np.array([[18,18],[20,18],[13,5],[1,25],[49,30],\n",
    "             [60,88],[70,52],[80,64],[92,55],[75,66]])\n",
    "\n",
    "B = np.array([[23,60],[20,80],[40,56],[15,95],[2,91],\n",
    "             [55,11],[92,12],[52,8],[62,33],[88,45]])\n",
    "\n",
    "trainData = np.concatenate((A,B),axis=0)\n",
    "trainData = np.array(trainData, dtype=np.float32)\n",
    "classData = np.array([[1, 0],[1, 0],[1, 0],[1, 0],[1, 0],[1, 0],[1, 0],[1, 0],[1, 0],[1, 0],\n",
    "                      [0, 1],[0, 1],[0, 1],[0, 1],[0, 1],[0, 1],[0, 1],[0, 1],[0, 1],[0, 1]])\n",
    "classData = np.array(classData, dtype=np.float32)\n",
    "print(trainData)\n",
    "print(classData)\n",
    "\n",
    "ann.train(np.array(trainData, dtype=np.float32), cv2.ml.ROW_SAMPLE, classData)\n",
    "\n",
    "X = np.random.random_integers(100, size=(1000,2))\n",
    "X = np.array(X, dtype=np.float32)\n",
    "\n",
    "resultados = ann.predict(X)\n",
    "\n",
    "print(resultados[1])\n",
    "\n",
    "plt.figure(0)\n",
    "plt.plot(A[:,0],A[:,1],'ro')\n",
    "plt.plot(B[:,0],B[:,1],'go')\n",
    "\n",
    "for i in range(len(X)):\n",
    "    if(resultados[1][i,0]>resultados[1][i,1]):\n",
    "        plt.plot(X[i,0],X[i,1],'bo')\n",
    "    else:\n",
    "        plt.plot(X[i,0],X[i,1],'yo')\n",
    "\n",
    "plt.xlim([0,100])\n",
    "plt.ylim([0,100])\n",
    "plt.show()\n"
   ]
  },
  {
   "cell_type": "code",
   "execution_count": null,
   "metadata": {},
   "outputs": [],
   "source": []
  }
 ],
 "metadata": {
  "kernelspec": {
   "display_name": "Python 3",
   "language": "python",
   "name": "python3"
  },
  "language_info": {
   "codemirror_mode": {
    "name": "ipython",
    "version": 3
   },
   "file_extension": ".py",
   "mimetype": "text/x-python",
   "name": "python",
   "nbconvert_exporter": "python",
   "pygments_lexer": "ipython3",
   "version": "3.7.6"
  }
 },
 "nbformat": 4,
 "nbformat_minor": 2
}
